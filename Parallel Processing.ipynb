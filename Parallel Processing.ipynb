{
 "cells": [
  {
   "cell_type": "markdown",
   "id": "0e312ecc",
   "metadata": {
    "pycharm": {
     "name": "#%% md\n"
    }
   },
   "source": [
    "## Overview\n",
    "\n",
    "This tutorial goes over the following:\n",
    "\n",
    "* How to structure the code and understand the syntax to enable parallel processing using multiprocessing\n",
    "* How to implement synchronous and asynchronous parallel processing\n",
    "* How to parallize a Pandas DataFrame\n",
    "* Solve 3 different usecases with the multiprocessing.Pool() interface"
   ]
  },
  {
   "cell_type": "code",
   "execution_count": 1,
   "id": "71131ad9",
   "metadata": {
    "pycharm": {
     "name": "#%%\n"
    }
   },
   "outputs": [
    {
     "name": "stdout",
     "output_type": "stream",
     "text": [
      "Number of processors:  16\n"
     ]
    }
   ],
   "source": [
    "# Check how many parallel processes you can run on your system\n",
    "import multiprocess as mp\n",
    "\n",
    "print(\"Number of processors: \", mp.cpu_count())"
   ]
  },
  {
   "cell_type": "markdown",
   "id": "8f4b42d9",
   "metadata": {
    "pycharm": {
     "name": "#%% md\n"
    }
   },
   "source": [
    "## Synchronous vs. Asynchronous\n",
    "\n",
    "Synchronous completes processes in the same order they started. The main program is locked until the respective processes are finished.\n",
    "\n",
    "Asynchronous does not lock the program but the results become a bit mixed. This process is the faster of the two.\n",
    "\n",
    "There are two main objects in the multiprocessing library: Pool and Process\n",
    "\n",
    "1. Synchronous execution\n",
    " * Pool.map() and Pool.starmap()\n",
    " * Pool.apply()\n",
    " \n",
    "2. Asynchronous execution\n",
    " * Pool.map_async() and Pool.starmap_async\n",
    " * Pool.apply_async()\n",
    " \n",
    " \n",
    "## Test with number counting problem\n",
    "\n",
    "Given a 2d matrix, count how many numbers are present between a given range in each row. "
   ]
  },
  {
   "cell_type": "code",
   "execution_count": 2,
   "id": "39a77c9e",
   "metadata": {
    "pycharm": {
     "name": "#%%\n"
    }
   },
   "outputs": [
    {
     "data": {
      "text/plain": [
       "[[7, 6, 9, 6, 3],\n",
       " [9, 9, 6, 3, 7],\n",
       " [7, 8, 0, 9, 8],\n",
       " [7, 3, 9, 9, 4],\n",
       " [7, 2, 4, 9, 5]]"
      ]
     },
     "execution_count": 2,
     "metadata": {},
     "output_type": "execute_result"
    }
   ],
   "source": [
    "# Generate 2D matrix\n",
    "import numpy as np\n",
    "from time import time\n",
    "\n",
    "np.random.RandomState(100)\n",
    "arr = np.random.randint(0,10, size=[200000, 5])\n",
    "data = arr.tolist()\n",
    "data[:5]"
   ]
  },
  {
   "cell_type": "markdown",
   "id": "2cf75fb0",
   "metadata": {
    "pycharm": {
     "name": "#%% md\n"
    }
   },
   "source": [
    "### Solve without parallelization\n",
    "\n",
    "Define a function to count how many number lie within range and returns the count"
   ]
  },
  {
   "cell_type": "code",
   "execution_count": 3,
   "id": "2fe23f30",
   "metadata": {
    "pycharm": {
     "name": "#%%\n"
    }
   },
   "outputs": [
    {
     "name": "stdout",
     "output_type": "stream",
     "text": [
      "0.154587984085083 seconds\n",
      "[3, 2, 3, 2, 3, 0, 4, 2, 3, 3]\n"
     ]
    }
   ],
   "source": [
    "def howmany_within_range(row, minimum, maximum):\n",
    "    count = 0\n",
    "    for n in row:\n",
    "        if minimum <= n <= maximum:\n",
    "            count = count + 1\n",
    "    return count\n",
    "\n",
    "results = []\n",
    "\n",
    "start = time()\n",
    "\n",
    "for row in data:\n",
    "    results.append(howmany_within_range(row, minimum = 4, maximum = 8))\n",
    "\n",
    "end = time()\n",
    "print(end - start, \"seconds\")\n",
    "print(results[:10])"
   ]
  },
  {
   "cell_type": "markdown",
   "id": "f840933a",
   "metadata": {
    "pycharm": {
     "name": "#%% md\n"
    }
   },
   "source": [
    "## Parallelizing using Pool.apply()\n",
    "\n",
    "We will parallelize the howmany_within_range() function using the multiprocessing.pool()"
   ]
  },
  {
   "cell_type": "code",
   "execution_count": 4,
   "id": "3a9934f6",
   "metadata": {
    "pycharm": {
     "name": "#%%\n"
    }
   },
   "outputs": [
    {
     "name": "stdout",
     "output_type": "stream",
     "text": [
      "start\n",
      "99.01706647872925 seconds\n",
      "[3, 2, 3, 2, 3, 0, 4, 2, 3, 3]\n"
     ]
    }
   ],
   "source": [
    "import multiprocess as mp\n",
    "\n",
    "# Initiate multiprocessing.Pool() with the total number of processors we have\n",
    "pool = mp.Pool(mp.cpu_count())\n",
    "\n",
    "start = time()\n",
    "print(\"start\")\n",
    "results = [pool.apply(howmany_within_range, args=(row, 4, 8)) for row in data]\n",
    "\n",
    "# Must close the pool after use\n",
    "pool.close()\n",
    "\n",
    "end = time()\n",
    "\n",
    "print(end - start, \"seconds\")\n",
    "print(results[:10])"
   ]
  },
  {
   "cell_type": "code",
   "execution_count": null,
   "id": "7eecbf2d",
   "metadata": {
    "pycharm": {
     "name": "#%%\n"
    }
   },
   "outputs": [],
   "source": [
    "# Parallelizing using Pool.map()\n",
    "import multiprocess as mp\n",
    "\n",
    "# Redefine, with only 1 mandatory argument.\n",
    "def howmany_within_range_rowonly(row, minimum=4, maximum=8):\n",
    "    count = 0\n",
    "    for n in row:\n",
    "        if minimum <= n <= maximum:\n",
    "            count = count + 1\n",
    "    return count\n",
    "\n",
    "pool = mp.Pool(mp.cpu_count())\n",
    "\n",
    "results = pool.map(howmany_within_range_rowonly, [row for row in data])\n",
    "\n",
    "pool.close()\n",
    "\n",
    "print(results[:10])\n",
    "#> [3, 1, 4, 4, 4, 2, 1, 1, 3, 3]"
   ]
  },
  {
   "cell_type": "code",
   "execution_count": 1,
   "id": "62740bfc",
   "metadata": {
    "pycharm": {
     "name": "#%%\n"
    }
   },
   "outputs": [
    {
     "name": "stdout",
     "output_type": "stream",
     "text": [
      "Collecting multiprocess\n",
      "  Downloading multiprocess-0.70.12.2-py37-none-any.whl (112 kB)\n",
      "Collecting dill>=0.3.4\n",
      "  Downloading dill-0.3.4-py2.py3-none-any.whl (86 kB)\n",
      "Installing collected packages: dill, multiprocess\n",
      "Successfully installed dill-0.3.4 multiprocess-0.70.12.2\n",
      "Note: you may need to restart the kernel to use updated packages.\n"
     ]
    }
   ],
   "source": []
  },
  {
   "cell_type": "code",
   "execution_count": null,
   "id": "d1f2ebed",
   "metadata": {
    "pycharm": {
     "name": "#%%\n"
    }
   },
   "outputs": [],
   "source": []
  }
 ],
 "metadata": {
  "kernelspec": {
   "display_name": "Python 3 (ipykernel)",
   "language": "python",
   "name": "python3"
  },
  "language_info": {
   "codemirror_mode": {
    "name": "ipython",
    "version": 3
   },
   "file_extension": ".py",
   "mimetype": "text/x-python",
   "name": "python",
   "nbconvert_exporter": "python",
   "pygments_lexer": "ipython3",
   "version": "3.7.4"
  }
 },
 "nbformat": 4,
 "nbformat_minor": 5
}