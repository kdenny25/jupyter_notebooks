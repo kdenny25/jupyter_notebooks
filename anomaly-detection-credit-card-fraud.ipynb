{
 "cells": [
  {
   "cell_type": "markdown",
   "id": "c86effa9",
   "metadata": {
    "papermill": {
     "duration": 0.010002,
     "end_time": "2022-08-01T16:57:17.096763",
     "exception": false,
     "start_time": "2022-08-01T16:57:17.086761",
     "status": "completed"
    },
    "tags": []
   },
   "source": [
    "## Introduction\n",
    "\n",
    "Hello this is part of an article on Anomoly Detection. If you are interested in learning more check it out at the link below.\n",
    "\n",
    "https://medium.com/@bdatamethods/data-mining-anomaly-detection-with-python-1d088d93da80"
   ]
  },
  {
   "cell_type": "markdown",
   "id": "743a55f6",
   "metadata": {
    "papermill": {
     "duration": 0.008507,
     "end_time": "2022-08-01T16:57:17.114422",
     "exception": false,
     "start_time": "2022-08-01T16:57:17.105915",
     "status": "completed"
    },
    "tags": []
   },
   "source": [
    "## Understanding the Process\n",
    "\n",
    "How are credit cards used and what can we understand about their use to identify credit card fraud? \n",
    "\n",
    "There are many ways to use credit cards. Some people use them for everyday purchases, such as gas or groceries. Other people use them for larger purchases, such as a new television or a vacation. And still others use them for emergencies, such as when their car breaks down or they have unexpected medical bills. Whatever the occasion people tend to follow certain trends in their spending. \n",
    "\n",
    "Aside from trends in purchases there are also trends in where and how the cards are used. A person could regularly use their card in a specific city one day or they only use the chip on the card instead of using it for online purchases.  All of these trends can be monitored to help identify potential fraud. \n",
    "\n",
    "If there are suddenly large purchases being made on a credit card that is usually only used for small transactions, that could be a sign of fraud. Or if the card is being used in a city where the person doesn't live or work, that could also be suspicious."
   ]
  },
  {
   "cell_type": "markdown",
   "id": "1c6f97f0",
   "metadata": {
    "papermill": {
     "duration": 0.008986,
     "end_time": "2022-08-01T16:57:17.132556",
     "exception": false,
     "start_time": "2022-08-01T16:57:17.123570",
     "status": "completed"
    },
    "tags": []
   },
   "source": [
    "## Libraries for this project\n",
    "\n",
    "I like to dedicate a block to the libraries used in project. This will be the first step."
   ]
  },
  {
   "cell_type": "code",
   "execution_count": 1,
   "id": "d13975e8",
   "metadata": {
    "execution": {
     "iopub.execute_input": "2022-08-01T16:57:17.152906Z",
     "iopub.status.busy": "2022-08-01T16:57:17.152270Z",
     "iopub.status.idle": "2022-08-01T16:57:18.816296Z",
     "shell.execute_reply": "2022-08-01T16:57:18.815049Z"
    },
    "papermill": {
     "duration": 1.677979,
     "end_time": "2022-08-01T16:57:18.819461",
     "exception": false,
     "start_time": "2022-08-01T16:57:17.141482",
     "status": "completed"
    },
    "tags": []
   },
   "outputs": [],
   "source": [
    "# linear algebra \n",
    "import numpy as np\n",
    "\n",
    "# data processing library\n",
    "import pandas as pd\n",
    "\n",
    "# pyplot from matplotlib\n",
    "import matplotlib.pyplot as plt\n",
    "\n",
    "# high level visualization package\n",
    "import seaborn as sns\n",
    "\n",
    "# import library to generate training and testing datasets\n",
    "from sklearn.model_selection import train_test_split\n",
    "\n",
    "# import library to help scale features in the datsets\n",
    "from sklearn.preprocessing import StandardScaler\n",
    "\n",
    "# import encoding library to transform data values\n",
    "from sklearn.preprocessing import LabelEncoder\n",
    "\n",
    "# import K Nearest Neighbors\n",
    "from sklearn.neighbors import KNeighborsClassifier\n",
    "\n",
    "# import Logistic Regression\n",
    "from sklearn.linear_model import LogisticRegression\n",
    "\n",
    "# import confusion matrix with Yellowbrick\n",
    "from yellowbrick.classifier import ConfusionMatrix\n",
    "from yellowbrick.classifier import ClassificationReport\n"
   ]
  },
  {
   "cell_type": "markdown",
   "id": "cb29f09c",
   "metadata": {
    "papermill": {
     "duration": 0.00855,
     "end_time": "2022-08-01T16:57:18.837069",
     "exception": false,
     "start_time": "2022-08-01T16:57:18.828519",
     "status": "completed"
    },
    "tags": []
   },
   "source": [
    "## Understanding the Data\n",
    "Now that we have an understanding of some nuances to credit card usage lets take a look at the data. \n",
    "The next step is loading the data into a dataframe and viewing the raw data. Our data is stored in a csv so all we have to do is read the csv into a dataframe."
   ]
  },
  {
   "cell_type": "code",
   "execution_count": 2,
   "id": "a1b68a71",
   "metadata": {
    "execution": {
     "iopub.execute_input": "2022-08-01T16:57:18.856888Z",
     "iopub.status.busy": "2022-08-01T16:57:18.856087Z",
     "iopub.status.idle": "2022-08-01T16:57:21.312541Z",
     "shell.execute_reply": "2022-08-01T16:57:21.311292Z"
    },
    "papermill": {
     "duration": 2.469479,
     "end_time": "2022-08-01T16:57:21.315255",
     "exception": false,
     "start_time": "2022-08-01T16:57:18.845776",
     "status": "completed"
    },
    "tags": []
   },
   "outputs": [
    {
     "data": {
      "text/html": [
       "<div>\n",
       "<style scoped>\n",
       "    .dataframe tbody tr th:only-of-type {\n",
       "        vertical-align: middle;\n",
       "    }\n",
       "\n",
       "    .dataframe tbody tr th {\n",
       "        vertical-align: top;\n",
       "    }\n",
       "\n",
       "    .dataframe thead th {\n",
       "        text-align: right;\n",
       "    }\n",
       "</style>\n",
       "<table border=\"1\" class=\"dataframe\">\n",
       "  <thead>\n",
       "    <tr style=\"text-align: right;\">\n",
       "      <th></th>\n",
       "      <th>distance_from_home</th>\n",
       "      <th>distance_from_last_transaction</th>\n",
       "      <th>ratio_to_median_purchase_price</th>\n",
       "      <th>repeat_retailer</th>\n",
       "      <th>used_chip</th>\n",
       "      <th>used_pin_number</th>\n",
       "      <th>online_order</th>\n",
       "      <th>fraud</th>\n",
       "    </tr>\n",
       "  </thead>\n",
       "  <tbody>\n",
       "    <tr>\n",
       "      <th>0</th>\n",
       "      <td>57.877857</td>\n",
       "      <td>0.311140</td>\n",
       "      <td>1.945940</td>\n",
       "      <td>1.0</td>\n",
       "      <td>1.0</td>\n",
       "      <td>0.0</td>\n",
       "      <td>0.0</td>\n",
       "      <td>0.0</td>\n",
       "    </tr>\n",
       "    <tr>\n",
       "      <th>1</th>\n",
       "      <td>10.829943</td>\n",
       "      <td>0.175592</td>\n",
       "      <td>1.294219</td>\n",
       "      <td>1.0</td>\n",
       "      <td>0.0</td>\n",
       "      <td>0.0</td>\n",
       "      <td>0.0</td>\n",
       "      <td>0.0</td>\n",
       "    </tr>\n",
       "    <tr>\n",
       "      <th>2</th>\n",
       "      <td>5.091079</td>\n",
       "      <td>0.805153</td>\n",
       "      <td>0.427715</td>\n",
       "      <td>1.0</td>\n",
       "      <td>0.0</td>\n",
       "      <td>0.0</td>\n",
       "      <td>1.0</td>\n",
       "      <td>0.0</td>\n",
       "    </tr>\n",
       "    <tr>\n",
       "      <th>3</th>\n",
       "      <td>2.247564</td>\n",
       "      <td>5.600044</td>\n",
       "      <td>0.362663</td>\n",
       "      <td>1.0</td>\n",
       "      <td>1.0</td>\n",
       "      <td>0.0</td>\n",
       "      <td>1.0</td>\n",
       "      <td>0.0</td>\n",
       "    </tr>\n",
       "    <tr>\n",
       "      <th>4</th>\n",
       "      <td>44.190936</td>\n",
       "      <td>0.566486</td>\n",
       "      <td>2.222767</td>\n",
       "      <td>1.0</td>\n",
       "      <td>1.0</td>\n",
       "      <td>0.0</td>\n",
       "      <td>1.0</td>\n",
       "      <td>0.0</td>\n",
       "    </tr>\n",
       "    <tr>\n",
       "      <th>...</th>\n",
       "      <td>...</td>\n",
       "      <td>...</td>\n",
       "      <td>...</td>\n",
       "      <td>...</td>\n",
       "      <td>...</td>\n",
       "      <td>...</td>\n",
       "      <td>...</td>\n",
       "      <td>...</td>\n",
       "    </tr>\n",
       "    <tr>\n",
       "      <th>999995</th>\n",
       "      <td>2.207101</td>\n",
       "      <td>0.112651</td>\n",
       "      <td>1.626798</td>\n",
       "      <td>1.0</td>\n",
       "      <td>1.0</td>\n",
       "      <td>0.0</td>\n",
       "      <td>0.0</td>\n",
       "      <td>0.0</td>\n",
       "    </tr>\n",
       "    <tr>\n",
       "      <th>999996</th>\n",
       "      <td>19.872726</td>\n",
       "      <td>2.683904</td>\n",
       "      <td>2.778303</td>\n",
       "      <td>1.0</td>\n",
       "      <td>1.0</td>\n",
       "      <td>0.0</td>\n",
       "      <td>0.0</td>\n",
       "      <td>0.0</td>\n",
       "    </tr>\n",
       "    <tr>\n",
       "      <th>999997</th>\n",
       "      <td>2.914857</td>\n",
       "      <td>1.472687</td>\n",
       "      <td>0.218075</td>\n",
       "      <td>1.0</td>\n",
       "      <td>1.0</td>\n",
       "      <td>0.0</td>\n",
       "      <td>1.0</td>\n",
       "      <td>0.0</td>\n",
       "    </tr>\n",
       "    <tr>\n",
       "      <th>999998</th>\n",
       "      <td>4.258729</td>\n",
       "      <td>0.242023</td>\n",
       "      <td>0.475822</td>\n",
       "      <td>1.0</td>\n",
       "      <td>0.0</td>\n",
       "      <td>0.0</td>\n",
       "      <td>1.0</td>\n",
       "      <td>0.0</td>\n",
       "    </tr>\n",
       "    <tr>\n",
       "      <th>999999</th>\n",
       "      <td>58.108125</td>\n",
       "      <td>0.318110</td>\n",
       "      <td>0.386920</td>\n",
       "      <td>1.0</td>\n",
       "      <td>1.0</td>\n",
       "      <td>0.0</td>\n",
       "      <td>1.0</td>\n",
       "      <td>0.0</td>\n",
       "    </tr>\n",
       "  </tbody>\n",
       "</table>\n",
       "<p>1000000 rows × 8 columns</p>\n",
       "</div>"
      ],
      "text/plain": [
       "        distance_from_home  distance_from_last_transaction  \\\n",
       "0                57.877857                        0.311140   \n",
       "1                10.829943                        0.175592   \n",
       "2                 5.091079                        0.805153   \n",
       "3                 2.247564                        5.600044   \n",
       "4                44.190936                        0.566486   \n",
       "...                    ...                             ...   \n",
       "999995            2.207101                        0.112651   \n",
       "999996           19.872726                        2.683904   \n",
       "999997            2.914857                        1.472687   \n",
       "999998            4.258729                        0.242023   \n",
       "999999           58.108125                        0.318110   \n",
       "\n",
       "        ratio_to_median_purchase_price  repeat_retailer  used_chip  \\\n",
       "0                             1.945940              1.0        1.0   \n",
       "1                             1.294219              1.0        0.0   \n",
       "2                             0.427715              1.0        0.0   \n",
       "3                             0.362663              1.0        1.0   \n",
       "4                             2.222767              1.0        1.0   \n",
       "...                                ...              ...        ...   \n",
       "999995                        1.626798              1.0        1.0   \n",
       "999996                        2.778303              1.0        1.0   \n",
       "999997                        0.218075              1.0        1.0   \n",
       "999998                        0.475822              1.0        0.0   \n",
       "999999                        0.386920              1.0        1.0   \n",
       "\n",
       "        used_pin_number  online_order  fraud  \n",
       "0                   0.0           0.0    0.0  \n",
       "1                   0.0           0.0    0.0  \n",
       "2                   0.0           1.0    0.0  \n",
       "3                   0.0           1.0    0.0  \n",
       "4                   0.0           1.0    0.0  \n",
       "...                 ...           ...    ...  \n",
       "999995              0.0           0.0    0.0  \n",
       "999996              0.0           0.0    0.0  \n",
       "999997              0.0           1.0    0.0  \n",
       "999998              0.0           1.0    0.0  \n",
       "999999              0.0           1.0    0.0  \n",
       "\n",
       "[1000000 rows x 8 columns]"
      ]
     },
     "execution_count": 2,
     "metadata": {},
     "output_type": "execute_result"
    }
   ],
   "source": [
    "# read csv file to dataframe\n",
    "df = pd.read_csv(r'../input/credit-card-fraud/card_transdata.csv')\n",
    "\n",
    "# display dataframe\n",
    "df"
   ]
  },
  {
   "cell_type": "markdown",
   "id": "8a524886",
   "metadata": {
    "papermill": {
     "duration": 0.008935,
     "end_time": "2022-08-01T16:57:21.333425",
     "exception": false,
     "start_time": "2022-08-01T16:57:21.324490",
     "status": "completed"
    },
    "tags": []
   },
   "source": [
    "There are 1 million entries and 8 columns. The 8 columns are:\n",
    "\n",
    "* distance_from_home - Distance from home where transaction occured\n",
    "* distance_from_last_transaction - Distance from where last transaction occured\n",
    "* ratio_to_median_purchase_price - Ratio of purchased price transaction to median purchase price\n",
    "* repeat_retailer - Has historically purchased from retailer (1 = Yes / 0 = No)\n",
    "* used_chip - Was chip used in transaction (1 = Yes / 0 = No)\n",
    "* used_pin_number - Was PIN used to complete transaction (1 = Yes / 0 = No)\n",
    "* online_order - Was transaction an online order (1 = Yes / 0 = No)\n",
    "* fraud - Was transaction fraudulent (1 = Yes / 0 = No)\n",
    "\n",
    "Based on how the data has been organized we can assume it doesn't represent a single client. It is a collection of transactions from many clients derived from a combination of data sources. \n",
    "\n",
    "Variables relating to distance have no unit of measure attached to them but, we can assume this data uses the same unit of measure. We care more about relations between distance and other variables.\n",
    "\n",
    "The data type of all variabes are float. I prefer the binary variables be integer values but, this wont change the outcome so we will let them be.\n",
    "\n",
    "Let's take a closer look at each variable."
   ]
  },
  {
   "cell_type": "code",
   "execution_count": 3,
   "id": "e8d10bd3",
   "metadata": {
    "execution": {
     "iopub.execute_input": "2022-08-01T16:57:21.353636Z",
     "iopub.status.busy": "2022-08-01T16:57:21.353246Z",
     "iopub.status.idle": "2022-08-01T16:57:21.779196Z",
     "shell.execute_reply": "2022-08-01T16:57:21.777960Z"
    },
    "papermill": {
     "duration": 0.439109,
     "end_time": "2022-08-01T16:57:21.781658",
     "exception": false,
     "start_time": "2022-08-01T16:57:21.342549",
     "status": "completed"
    },
    "tags": []
   },
   "outputs": [
    {
     "data": {
      "text/html": [
       "<div>\n",
       "<style scoped>\n",
       "    .dataframe tbody tr th:only-of-type {\n",
       "        vertical-align: middle;\n",
       "    }\n",
       "\n",
       "    .dataframe tbody tr th {\n",
       "        vertical-align: top;\n",
       "    }\n",
       "\n",
       "    .dataframe thead th {\n",
       "        text-align: right;\n",
       "    }\n",
       "</style>\n",
       "<table border=\"1\" class=\"dataframe\">\n",
       "  <thead>\n",
       "    <tr style=\"text-align: right;\">\n",
       "      <th></th>\n",
       "      <th>distance_from_home</th>\n",
       "      <th>distance_from_last_transaction</th>\n",
       "      <th>ratio_to_median_purchase_price</th>\n",
       "      <th>repeat_retailer</th>\n",
       "      <th>used_chip</th>\n",
       "      <th>used_pin_number</th>\n",
       "      <th>online_order</th>\n",
       "      <th>fraud</th>\n",
       "    </tr>\n",
       "  </thead>\n",
       "  <tbody>\n",
       "    <tr>\n",
       "      <th>count</th>\n",
       "      <td>1000000.000000</td>\n",
       "      <td>1000000.000000</td>\n",
       "      <td>1000000.000000</td>\n",
       "      <td>1000000.000000</td>\n",
       "      <td>1000000.000000</td>\n",
       "      <td>1000000.000000</td>\n",
       "      <td>1000000.000000</td>\n",
       "      <td>1000000.000000</td>\n",
       "    </tr>\n",
       "    <tr>\n",
       "      <th>mean</th>\n",
       "      <td>26.628792</td>\n",
       "      <td>5.036519</td>\n",
       "      <td>1.824182</td>\n",
       "      <td>0.881536</td>\n",
       "      <td>0.350399</td>\n",
       "      <td>0.100608</td>\n",
       "      <td>0.650552</td>\n",
       "      <td>0.087403</td>\n",
       "    </tr>\n",
       "    <tr>\n",
       "      <th>std</th>\n",
       "      <td>65.390784</td>\n",
       "      <td>25.843093</td>\n",
       "      <td>2.799589</td>\n",
       "      <td>0.323157</td>\n",
       "      <td>0.477095</td>\n",
       "      <td>0.300809</td>\n",
       "      <td>0.476796</td>\n",
       "      <td>0.282425</td>\n",
       "    </tr>\n",
       "    <tr>\n",
       "      <th>min</th>\n",
       "      <td>0.004874</td>\n",
       "      <td>0.000118</td>\n",
       "      <td>0.004399</td>\n",
       "      <td>0.000000</td>\n",
       "      <td>0.000000</td>\n",
       "      <td>0.000000</td>\n",
       "      <td>0.000000</td>\n",
       "      <td>0.000000</td>\n",
       "    </tr>\n",
       "    <tr>\n",
       "      <th>25%</th>\n",
       "      <td>3.878008</td>\n",
       "      <td>0.296671</td>\n",
       "      <td>0.475673</td>\n",
       "      <td>1.000000</td>\n",
       "      <td>0.000000</td>\n",
       "      <td>0.000000</td>\n",
       "      <td>0.000000</td>\n",
       "      <td>0.000000</td>\n",
       "    </tr>\n",
       "    <tr>\n",
       "      <th>50%</th>\n",
       "      <td>9.967760</td>\n",
       "      <td>0.998650</td>\n",
       "      <td>0.997717</td>\n",
       "      <td>1.000000</td>\n",
       "      <td>0.000000</td>\n",
       "      <td>0.000000</td>\n",
       "      <td>1.000000</td>\n",
       "      <td>0.000000</td>\n",
       "    </tr>\n",
       "    <tr>\n",
       "      <th>75%</th>\n",
       "      <td>25.743985</td>\n",
       "      <td>3.355748</td>\n",
       "      <td>2.096370</td>\n",
       "      <td>1.000000</td>\n",
       "      <td>1.000000</td>\n",
       "      <td>0.000000</td>\n",
       "      <td>1.000000</td>\n",
       "      <td>0.000000</td>\n",
       "    </tr>\n",
       "    <tr>\n",
       "      <th>max</th>\n",
       "      <td>10632.723672</td>\n",
       "      <td>11851.104565</td>\n",
       "      <td>267.802942</td>\n",
       "      <td>1.000000</td>\n",
       "      <td>1.000000</td>\n",
       "      <td>1.000000</td>\n",
       "      <td>1.000000</td>\n",
       "      <td>1.000000</td>\n",
       "    </tr>\n",
       "  </tbody>\n",
       "</table>\n",
       "</div>"
      ],
      "text/plain": [
       "       distance_from_home  distance_from_last_transaction  \\\n",
       "count      1000000.000000                  1000000.000000   \n",
       "mean            26.628792                        5.036519   \n",
       "std             65.390784                       25.843093   \n",
       "min              0.004874                        0.000118   \n",
       "25%              3.878008                        0.296671   \n",
       "50%              9.967760                        0.998650   \n",
       "75%             25.743985                        3.355748   \n",
       "max          10632.723672                    11851.104565   \n",
       "\n",
       "       ratio_to_median_purchase_price  repeat_retailer       used_chip  \\\n",
       "count                  1000000.000000   1000000.000000  1000000.000000   \n",
       "mean                         1.824182         0.881536        0.350399   \n",
       "std                          2.799589         0.323157        0.477095   \n",
       "min                          0.004399         0.000000        0.000000   \n",
       "25%                          0.475673         1.000000        0.000000   \n",
       "50%                          0.997717         1.000000        0.000000   \n",
       "75%                          2.096370         1.000000        1.000000   \n",
       "max                        267.802942         1.000000        1.000000   \n",
       "\n",
       "       used_pin_number    online_order           fraud  \n",
       "count   1000000.000000  1000000.000000  1000000.000000  \n",
       "mean          0.100608        0.650552        0.087403  \n",
       "std           0.300809        0.476796        0.282425  \n",
       "min           0.000000        0.000000        0.000000  \n",
       "25%           0.000000        0.000000        0.000000  \n",
       "50%           0.000000        1.000000        0.000000  \n",
       "75%           0.000000        1.000000        0.000000  \n",
       "max           1.000000        1.000000        1.000000  "
      ]
     },
     "execution_count": 3,
     "metadata": {},
     "output_type": "execute_result"
    }
   ],
   "source": [
    "df.describe()"
   ]
  },
  {
   "cell_type": "markdown",
   "id": "308c30f8",
   "metadata": {
    "papermill": {
     "duration": 0.009612,
     "end_time": "2022-08-01T16:57:21.801134",
     "exception": false,
     "start_time": "2022-08-01T16:57:21.791522",
     "status": "completed"
    },
    "tags": []
   },
   "source": [
    "The count of each column is exactly 1 million which is a great indicator that we don't have any missing values.\n",
    "\n",
    "Approximately 88% of transactions were with a repeat retailer. 35% used a chip. 10% used a pin. 65 % were online orders, that matches with the chip transactions. \n",
    "\n",
    "Only 8.7% of transactions were fraudulant. \n",
    "\n",
    "There's a pretty large gap between the minimum distance and max distance. The next step is grouping the distance and ratio values and generating a group so we can compare the values to the number of fraudulant cases. \n",
    "\n",
    "I used the percentage values from the describe() function to determine the grouping for each variable."
   ]
  },
  {
   "cell_type": "code",
   "execution_count": 4,
   "id": "25ba7570",
   "metadata": {
    "execution": {
     "iopub.execute_input": "2022-08-01T16:57:21.822356Z",
     "iopub.status.busy": "2022-08-01T16:57:21.821936Z",
     "iopub.status.idle": "2022-08-01T16:57:21.991536Z",
     "shell.execute_reply": "2022-08-01T16:57:21.990015Z"
    },
    "papermill": {
     "duration": 0.18407,
     "end_time": "2022-08-01T16:57:21.994801",
     "exception": false,
     "start_time": "2022-08-01T16:57:21.810731",
     "status": "completed"
    },
    "tags": []
   },
   "outputs": [
    {
     "name": "stdout",
     "output_type": "stream",
     "text": [
      "Distance from Home \n",
      "(0, 10]          500934\n",
      "(10, 25]         242427\n",
      "(25, 100]        206850\n",
      "(100, 1000]       49303\n",
      "(1000, 5000]        483\n",
      "(5000, 11000]         3\n",
      "Name: dist_home_group, dtype: int64\n",
      "\n",
      "\n",
      "Distance from last transaction\n",
      "(0, 1]           500294\n",
      "(1, 2]           149981\n",
      "(2, 3]            79373\n",
      "(3, 100]         265092\n",
      "(100, 1000]        5204\n",
      "(1000, 5000]         55\n",
      "(5000, 12000]         1\n",
      "Name: dist_trans_group, dtype: int64\n",
      "\n",
      "\n",
      "Ratio to median purchase price\n",
      "(0.0, 0.5]        264451\n",
      "(0.5, 1.0]        236428\n",
      "(1.0, 1.5]        143620\n",
      "(1.5, 2.0]         91758\n",
      "(2.0, 10.0]       245829\n",
      "(10.0, 50.0]       17724\n",
      "(50.0, 100.0]        179\n",
      "(100.0, 200.0]         9\n",
      "(200.0, 250.0]         0\n",
      "(250.0, 300.0]         2\n",
      "Name: rtmpp_group, dtype: int64\n"
     ]
    }
   ],
   "source": [
    "# create temporary dataframe\n",
    "df_temp = df\n",
    "\n",
    "# how distance from home groups are organized\n",
    "dfh_groups = [0, 10, 25, 100, 1000, 5000, 11000]\n",
    "\n",
    "# how distance from last transaction groups are organized\n",
    "dflt_groups = [0, 1, 2, 3, 100, 1000, 5000, 12000]\n",
    "\n",
    "# how ratio to median purchase groups are organized\n",
    "rtmpp_groups = [0, .5, 1, 1.5, 2, 10, 50, 100, 200, 250, 300]\n",
    "\n",
    "# split distance into groups\n",
    "df_temp['dist_home_group'] = pd.cut(df['distance_from_home'], dfh_groups)\n",
    "df_temp['dist_trans_group'] = pd.cut(df['distance_from_last_transaction'], dflt_groups)\n",
    "df_temp['rtmpp_group'] = pd.cut(df['ratio_to_median_purchase_price'], rtmpp_groups)\n",
    "\n",
    "# check number of entries with distances\n",
    "print(\"Distance from Home \")\n",
    "print(df_temp['dist_home_group'].value_counts().sort_index())\n",
    "print(\"\\n\")\n",
    "print(\"Distance from last transaction\")\n",
    "print(df_temp['dist_trans_group'].value_counts().sort_index())\n",
    "print(\"\\n\")\n",
    "print(\"Ratio to median purchase price\")\n",
    "print(df_temp['rtmpp_group'].value_counts().sort_index())"
   ]
  },
  {
   "cell_type": "code",
   "execution_count": 5,
   "id": "d1c77023",
   "metadata": {
    "execution": {
     "iopub.execute_input": "2022-08-01T16:57:22.016915Z",
     "iopub.status.busy": "2022-08-01T16:57:22.016479Z",
     "iopub.status.idle": "2022-08-01T16:57:22.083575Z",
     "shell.execute_reply": "2022-08-01T16:57:22.082424Z"
    },
    "papermill": {
     "duration": 0.081388,
     "end_time": "2022-08-01T16:57:22.086235",
     "exception": false,
     "start_time": "2022-08-01T16:57:22.004847",
     "status": "completed"
    },
    "tags": []
   },
   "outputs": [
    {
     "data": {
      "text/plain": [
       "dist_home_group\n",
       "(0, 10]          35759\n",
       "(10, 25]         15844\n",
       "(25, 100]        13593\n",
       "(100, 1000]      21996\n",
       "(1000, 5000]       210\n",
       "(5000, 11000]        1\n",
       "Name: fraud, dtype: int64"
      ]
     },
     "execution_count": 5,
     "metadata": {},
     "output_type": "execute_result"
    }
   ],
   "source": [
    "# count number fraudulant transactions in distance group.\n",
    "df_temp.groupby(['dist_home_group'])['fraud'].apply(lambda fraud: (fraud==1).sum())"
   ]
  },
  {
   "cell_type": "code",
   "execution_count": 6,
   "id": "b74968aa",
   "metadata": {
    "execution": {
     "iopub.execute_input": "2022-08-01T16:57:22.108932Z",
     "iopub.status.busy": "2022-08-01T16:57:22.108491Z",
     "iopub.status.idle": "2022-08-01T16:57:24.794186Z",
     "shell.execute_reply": "2022-08-01T16:57:24.792930Z"
    },
    "papermill": {
     "duration": 2.700588,
     "end_time": "2022-08-01T16:57:24.797120",
     "exception": false,
     "start_time": "2022-08-01T16:57:22.096532",
     "status": "completed"
    },
    "tags": []
   },
   "outputs": [
    {
     "data": {
      "image/png": "[encoded data removed]",
      "text/plain": [
       "<Figure size 1296x864 with 7 Axes>"
      ]
     },
     "metadata": {},
     "output_type": "display_data"
    }
   ],
   "source": [
    "# Visualize the count of fraudulant transactions for columns 'dis_home_group', \n",
    "cols = [ 'dist_home_group', 'dist_trans_group', 'rtmpp_group', 'repeat_retailer', \n",
    "        'used_pin_number', 'used_chip', 'online_order']\n",
    "\n",
    "n_rows = 3\n",
    "n_cols = 3\n",
    "\n",
    "# The subplot grid and the figure size of each graph\n",
    "# This returns a Figure (fig) and an Axes Object (axs)\n",
    "fig, axs = plt.subplots(n_rows, n_cols, figsize=(n_cols*6,n_rows*4))\n",
    "\n",
    "# Iterates through the matrix and places a graph\n",
    "for r in range(0,n_rows):\n",
    "    for c in range(0,n_cols): \n",
    "        # prevents out of range error and hides graph template\n",
    "        if r == 2 and c > 0: \n",
    "            fig.delaxes(axs[r][c])\n",
    "            fig.delaxes(axs[r][c+1])\n",
    "            break \n",
    "        i = r*n_cols+ c #index to go through the number of columns       \n",
    "        ax = axs[r][c] #Show where to position each subplot\n",
    "        sns.countplot(x=df_temp[cols[i]], hue=df_temp[\"fraud\"], ax=ax)\n",
    "        ax.legend(title=\"fraud\", loc='upper right') \n",
    "        \n",
    "plt.tight_layout()   #tight_layout"
   ]
  },
  {
   "cell_type": "markdown",
   "id": "af383738",
   "metadata": {
    "papermill": {
     "duration": 0.010644,
     "end_time": "2022-08-01T16:57:24.818910",
     "exception": false,
     "start_time": "2022-08-01T16:57:24.808266",
     "status": "completed"
    },
    "tags": []
   },
   "source": [
    "Based on these graphs, there is a relation to high dollar purchases and fraudulant transactions. This makes sense. A scammer would want to extract as much money as they could before the card is blocked. \n",
    "\n",
    "Fraud and repeated retailers suggests scammers using a retailer they are familiar with. If making purchases in person they know the stock or they are familiar with with the online purchasing process.\n",
    "\n",
    "It is no surprise fraudulant transactions occur without the chip or pin. Online orders allow more anonymous purchases and are quicker to process.\n",
    "\n",
    "Next let's observe any correlation between variables. Before doing that we need to convert the distance and ratio groups to numerical values in order for the correlation matrix to process them. "
   ]
  },
  {
   "cell_type": "code",
   "execution_count": 7,
   "id": "4eec4858",
   "metadata": {
    "execution": {
     "iopub.execute_input": "2022-08-01T16:57:24.843749Z",
     "iopub.status.busy": "2022-08-01T16:57:24.842749Z",
     "iopub.status.idle": "2022-08-01T16:57:24.851709Z",
     "shell.execute_reply": "2022-08-01T16:57:24.850636Z"
    },
    "papermill": {
     "duration": 0.024249,
     "end_time": "2022-08-01T16:57:24.854151",
     "exception": false,
     "start_time": "2022-08-01T16:57:24.829902",
     "status": "completed"
    },
    "tags": []
   },
   "outputs": [
    {
     "data": {
      "text/plain": [
       "distance_from_home                 float64\n",
       "distance_from_last_transaction     float64\n",
       "ratio_to_median_purchase_price     float64\n",
       "repeat_retailer                    float64\n",
       "used_chip                          float64\n",
       "used_pin_number                    float64\n",
       "online_order                       float64\n",
       "fraud                              float64\n",
       "dist_home_group                   category\n",
       "dist_trans_group                  category\n",
       "rtmpp_group                       category\n",
       "dtype: object"
      ]
     },
     "execution_count": 7,
     "metadata": {},
     "output_type": "execute_result"
    }
   ],
   "source": [
    "df_temp.dtypes"
   ]
  },
  {
   "cell_type": "code",
   "execution_count": 8,
   "id": "13920b48",
   "metadata": {
    "execution": {
     "iopub.execute_input": "2022-08-01T16:57:24.878686Z",
     "iopub.status.busy": "2022-08-01T16:57:24.878024Z",
     "iopub.status.idle": "2022-08-01T16:57:37.798985Z",
     "shell.execute_reply": "2022-08-01T16:57:37.797472Z"
    },
    "papermill": {
     "duration": 12.936381,
     "end_time": "2022-08-01T16:57:37.801726",
     "exception": false,
     "start_time": "2022-08-01T16:57:24.865345",
     "status": "completed"
    },
    "tags": []
   },
   "outputs": [
    {
     "data": {
      "text/html": [
       "<div>\n",
       "<style scoped>\n",
       "    .dataframe tbody tr th:only-of-type {\n",
       "        vertical-align: middle;\n",
       "    }\n",
       "\n",
       "    .dataframe tbody tr th {\n",
       "        vertical-align: top;\n",
       "    }\n",
       "\n",
       "    .dataframe thead th {\n",
       "        text-align: right;\n",
       "    }\n",
       "</style>\n",
       "<table border=\"1\" class=\"dataframe\">\n",
       "  <thead>\n",
       "    <tr style=\"text-align: right;\">\n",
       "      <th></th>\n",
       "      <th>distance_from_home</th>\n",
       "      <th>distance_from_last_transaction</th>\n",
       "      <th>ratio_to_median_purchase_price</th>\n",
       "      <th>repeat_retailer</th>\n",
       "      <th>used_chip</th>\n",
       "      <th>used_pin_number</th>\n",
       "      <th>online_order</th>\n",
       "      <th>fraud</th>\n",
       "      <th>dist_home_group</th>\n",
       "      <th>dist_trans_group</th>\n",
       "      <th>rtmpp_group</th>\n",
       "    </tr>\n",
       "  </thead>\n",
       "  <tbody>\n",
       "    <tr>\n",
       "      <th>0</th>\n",
       "      <td>57.877857</td>\n",
       "      <td>0.311140</td>\n",
       "      <td>1.945940</td>\n",
       "      <td>1.0</td>\n",
       "      <td>1.0</td>\n",
       "      <td>0.0</td>\n",
       "      <td>0.0</td>\n",
       "      <td>0.0</td>\n",
       "      <td>2</td>\n",
       "      <td>0</td>\n",
       "      <td>3</td>\n",
       "    </tr>\n",
       "    <tr>\n",
       "      <th>1</th>\n",
       "      <td>10.829943</td>\n",
       "      <td>0.175592</td>\n",
       "      <td>1.294219</td>\n",
       "      <td>1.0</td>\n",
       "      <td>0.0</td>\n",
       "      <td>0.0</td>\n",
       "      <td>0.0</td>\n",
       "      <td>0.0</td>\n",
       "      <td>1</td>\n",
       "      <td>0</td>\n",
       "      <td>2</td>\n",
       "    </tr>\n",
       "    <tr>\n",
       "      <th>2</th>\n",
       "      <td>5.091079</td>\n",
       "      <td>0.805153</td>\n",
       "      <td>0.427715</td>\n",
       "      <td>1.0</td>\n",
       "      <td>0.0</td>\n",
       "      <td>0.0</td>\n",
       "      <td>1.0</td>\n",
       "      <td>0.0</td>\n",
       "      <td>0</td>\n",
       "      <td>0</td>\n",
       "      <td>0</td>\n",
       "    </tr>\n",
       "    <tr>\n",
       "      <th>3</th>\n",
       "      <td>2.247564</td>\n",
       "      <td>5.600044</td>\n",
       "      <td>0.362663</td>\n",
       "      <td>1.0</td>\n",
       "      <td>1.0</td>\n",
       "      <td>0.0</td>\n",
       "      <td>1.0</td>\n",
       "      <td>0.0</td>\n",
       "      <td>0</td>\n",
       "      <td>3</td>\n",
       "      <td>0</td>\n",
       "    </tr>\n",
       "    <tr>\n",
       "      <th>4</th>\n",
       "      <td>44.190936</td>\n",
       "      <td>0.566486</td>\n",
       "      <td>2.222767</td>\n",
       "      <td>1.0</td>\n",
       "      <td>1.0</td>\n",
       "      <td>0.0</td>\n",
       "      <td>1.0</td>\n",
       "      <td>0.0</td>\n",
       "      <td>2</td>\n",
       "      <td>0</td>\n",
       "      <td>4</td>\n",
       "    </tr>\n",
       "    <tr>\n",
       "      <th>...</th>\n",
       "      <td>...</td>\n",
       "      <td>...</td>\n",
       "      <td>...</td>\n",
       "      <td>...</td>\n",
       "      <td>...</td>\n",
       "      <td>...</td>\n",
       "      <td>...</td>\n",
       "      <td>...</td>\n",
       "      <td>...</td>\n",
       "      <td>...</td>\n",
       "      <td>...</td>\n",
       "    </tr>\n",
       "    <tr>\n",
       "      <th>999995</th>\n",
       "      <td>2.207101</td>\n",
       "      <td>0.112651</td>\n",
       "      <td>1.626798</td>\n",
       "      <td>1.0</td>\n",
       "      <td>1.0</td>\n",
       "      <td>0.0</td>\n",
       "      <td>0.0</td>\n",
       "      <td>0.0</td>\n",
       "      <td>0</td>\n",
       "      <td>0</td>\n",
       "      <td>3</td>\n",
       "    </tr>\n",
       "    <tr>\n",
       "      <th>999996</th>\n",
       "      <td>19.872726</td>\n",
       "      <td>2.683904</td>\n",
       "      <td>2.778303</td>\n",
       "      <td>1.0</td>\n",
       "      <td>1.0</td>\n",
       "      <td>0.0</td>\n",
       "      <td>0.0</td>\n",
       "      <td>0.0</td>\n",
       "      <td>1</td>\n",
       "      <td>2</td>\n",
       "      <td>4</td>\n",
       "    </tr>\n",
       "    <tr>\n",
       "      <th>999997</th>\n",
       "      <td>2.914857</td>\n",
       "      <td>1.472687</td>\n",
       "      <td>0.218075</td>\n",
       "      <td>1.0</td>\n",
       "      <td>1.0</td>\n",
       "      <td>0.0</td>\n",
       "      <td>1.0</td>\n",
       "      <td>0.0</td>\n",
       "      <td>0</td>\n",
       "      <td>1</td>\n",
       "      <td>0</td>\n",
       "    </tr>\n",
       "    <tr>\n",
       "      <th>999998</th>\n",
       "      <td>4.258729</td>\n",
       "      <td>0.242023</td>\n",
       "      <td>0.475822</td>\n",
       "      <td>1.0</td>\n",
       "      <td>0.0</td>\n",
       "      <td>0.0</td>\n",
       "      <td>1.0</td>\n",
       "      <td>0.0</td>\n",
       "      <td>0</td>\n",
       "      <td>0</td>\n",
       "      <td>0</td>\n",
       "    </tr>\n",
       "    <tr>\n",
       "      <th>999999</th>\n",
       "      <td>58.108125</td>\n",
       "      <td>0.318110</td>\n",
       "      <td>0.386920</td>\n",
       "      <td>1.0</td>\n",
       "      <td>1.0</td>\n",
       "      <td>0.0</td>\n",
       "      <td>1.0</td>\n",
       "      <td>0.0</td>\n",
       "      <td>2</td>\n",
       "      <td>0</td>\n",
       "      <td>0</td>\n",
       "    </tr>\n",
       "  </tbody>\n",
       "</table>\n",
       "<p>1000000 rows × 11 columns</p>\n",
       "</div>"
      ],
      "text/plain": [
       "        distance_from_home  distance_from_last_transaction  \\\n",
       "0                57.877857                        0.311140   \n",
       "1                10.829943                        0.175592   \n",
       "2                 5.091079                        0.805153   \n",
       "3                 2.247564                        5.600044   \n",
       "4                44.190936                        0.566486   \n",
       "...                    ...                             ...   \n",
       "999995            2.207101                        0.112651   \n",
       "999996           19.872726                        2.683904   \n",
       "999997            2.914857                        1.472687   \n",
       "999998            4.258729                        0.242023   \n",
       "999999           58.108125                        0.318110   \n",
       "\n",
       "        ratio_to_median_purchase_price  repeat_retailer  used_chip  \\\n",
       "0                             1.945940              1.0        1.0   \n",
       "1                             1.294219              1.0        0.0   \n",
       "2                             0.427715              1.0        0.0   \n",
       "3                             0.362663              1.0        1.0   \n",
       "4                             2.222767              1.0        1.0   \n",
       "...                                ...              ...        ...   \n",
       "999995                        1.626798              1.0        1.0   \n",
       "999996                        2.778303              1.0        1.0   \n",
       "999997                        0.218075              1.0        1.0   \n",
       "999998                        0.475822              1.0        0.0   \n",
       "999999                        0.386920              1.0        1.0   \n",
       "\n",
       "        used_pin_number  online_order  fraud  dist_home_group  \\\n",
       "0                   0.0           0.0    0.0                2   \n",
       "1                   0.0           0.0    0.0                1   \n",
       "2                   0.0           1.0    0.0                0   \n",
       "3                   0.0           1.0    0.0                0   \n",
       "4                   0.0           1.0    0.0                2   \n",
       "...                 ...           ...    ...              ...   \n",
       "999995              0.0           0.0    0.0                0   \n",
       "999996              0.0           0.0    0.0                1   \n",
       "999997              0.0           1.0    0.0                0   \n",
       "999998              0.0           1.0    0.0                0   \n",
       "999999              0.0           1.0    0.0                2   \n",
       "\n",
       "        dist_trans_group  rtmpp_group  \n",
       "0                      0            3  \n",
       "1                      0            2  \n",
       "2                      0            0  \n",
       "3                      3            0  \n",
       "4                      0            4  \n",
       "...                  ...          ...  \n",
       "999995                 0            3  \n",
       "999996                 2            4  \n",
       "999997                 1            0  \n",
       "999998                 0            0  \n",
       "999999                 0            0  \n",
       "\n",
       "[1000000 rows x 11 columns]"
      ]
     },
     "execution_count": 8,
     "metadata": {},
     "output_type": "execute_result"
    }
   ],
   "source": [
    "# Start transforming data into numerical values\n",
    "labelencoder = LabelEncoder()\n",
    "\n",
    "# encode dist_home_group column\n",
    "df_temp.iloc[:,8] = labelencoder.fit_transform(df.iloc[:,8].values)\n",
    "\n",
    "# encode dist_trans_group column\n",
    "df_temp.iloc[:,9] = labelencoder.fit_transform(df.iloc[:,9].values)\n",
    "\n",
    "# encode rtmpp_group column\n",
    "df_temp.iloc[:,10] = labelencoder.fit_transform(df.iloc[:,10].values)\n",
    "\n",
    "df_temp"
   ]
  },
  {
   "cell_type": "code",
   "execution_count": 9,
   "id": "3f976217",
   "metadata": {
    "execution": {
     "iopub.execute_input": "2022-08-01T16:57:37.827193Z",
     "iopub.status.busy": "2022-08-01T16:57:37.826740Z",
     "iopub.status.idle": "2022-08-01T16:57:38.683628Z",
     "shell.execute_reply": "2022-08-01T16:57:38.682468Z"
    },
    "papermill": {
     "duration": 0.872723,
     "end_time": "2022-08-01T16:57:38.686357",
     "exception": false,
     "start_time": "2022-08-01T16:57:37.813634",
     "status": "completed"
    },
    "tags": []
   },
   "outputs": [
    {
     "data": {
      "image/png": "[encoded data removed]",
      "text/plain": [
       "<Figure size 864x648 with 2 Axes>"
      ]
     },
     "metadata": {},
     "output_type": "display_data"
    }
   ],
   "source": [
    "# Generate correlation matrix\n",
    "corrmat = df_temp.corr()\n",
    "\n",
    "# setup figure size\n",
    "fig = plt.figure(figsize = (12, 9))\n",
    "\n",
    "# assign data to a heatmap\n",
    "sns.heatmap(corrmat, square = True)\n",
    "plt.show()"
   ]
  },
  {
   "cell_type": "markdown",
   "id": "b10726b5",
   "metadata": {
    "papermill": {
     "duration": 0.012244,
     "end_time": "2022-08-01T16:57:38.711730",
     "exception": false,
     "start_time": "2022-08-01T16:57:38.699486",
     "status": "completed"
    },
    "tags": []
   },
   "source": [
    "There is very little correlation between each variable. The only thing that stands out is repeat_retailer and distance_from_home."
   ]
  },
  {
   "cell_type": "markdown",
   "id": "bdeb52e8",
   "metadata": {
    "papermill": {
     "duration": 0.012153,
     "end_time": "2022-08-01T16:57:38.736769",
     "exception": false,
     "start_time": "2022-08-01T16:57:38.724616",
     "status": "completed"
    },
    "tags": []
   },
   "source": [
    "## Setup Data for Model Training\n",
    "\n",
    "Frist we must split the data into a training and testing datasets. For this we use the 80/20 rule. 80% of the data is for training and 20% is for testing."
   ]
  },
  {
   "cell_type": "markdown",
   "id": "74916f8a",
   "metadata": {
    "papermill": {
     "duration": 0.012094,
     "end_time": "2022-08-01T16:57:38.761325",
     "exception": false,
     "start_time": "2022-08-01T16:57:38.749231",
     "status": "completed"
    },
    "tags": []
   },
   "source": []
  },
  {
   "cell_type": "code",
   "execution_count": 10,
   "id": "d05ae06a",
   "metadata": {
    "execution": {
     "iopub.execute_input": "2022-08-01T16:57:38.788173Z",
     "iopub.status.busy": "2022-08-01T16:57:38.787726Z",
     "iopub.status.idle": "2022-08-01T16:57:39.431970Z",
     "shell.execute_reply": "2022-08-01T16:57:39.430707Z"
    },
    "papermill": {
     "duration": 0.661164,
     "end_time": "2022-08-01T16:57:39.435073",
     "exception": false,
     "start_time": "2022-08-01T16:57:38.773909",
     "status": "completed"
    },
    "tags": []
   },
   "outputs": [
    {
     "name": "stdout",
     "output_type": "stream",
     "text": [
      "completed\n"
     ]
    }
   ],
   "source": [
    "# split data into independent 'X' variables or features\n",
    "X = df.iloc[:, 0:6].values\n",
    "\n",
    "# create a target dataset that can be used for training and validation\n",
    "Y = df.replace({'fraud': {1:'fraud', 0: 'not_fraud'}})['fraud']\n",
    "\n",
    "# split dataset into 80% training set and 20% testing set\n",
    "X_train, X_test, Y_train, Y_test = train_test_split(X, Y, test_size = 0.2, random_state = 0)\n",
    "\n",
    "sc = StandardScaler()\n",
    "X_train = sc.fit_transform(X_train)\n",
    "X_test = sc.transform(X_test)\n",
    "\n",
    "print(\"completed\")"
   ]
  },
  {
   "cell_type": "markdown",
   "id": "b27ba69c",
   "metadata": {
    "papermill": {
     "duration": 0.012363,
     "end_time": "2022-08-01T16:57:39.460192",
     "exception": false,
     "start_time": "2022-08-01T16:57:39.447829",
     "status": "completed"
    },
    "tags": []
   },
   "source": [
    "## Evaluation with K Nearest Neighbors\n",
    "\n",
    "First we will evaluate the data using K Nearest Neighbors then we will run an evaluation using Logistic Regression and compare the results."
   ]
  },
  {
   "cell_type": "code",
   "execution_count": 11,
   "id": "aff20d5f",
   "metadata": {
    "execution": {
     "iopub.execute_input": "2022-08-01T16:57:39.487715Z",
     "iopub.status.busy": "2022-08-01T16:57:39.487026Z",
     "iopub.status.idle": "2022-08-01T16:58:36.979502Z",
     "shell.execute_reply": "2022-08-01T16:58:36.977991Z"
    },
    "papermill": {
     "duration": 57.532569,
     "end_time": "2022-08-01T16:58:37.005511",
     "exception": false,
     "start_time": "2022-08-01T16:57:39.472942",
     "status": "completed"
    },
    "tags": []
   },
   "outputs": [
    {
     "data": {
      "image/png": "[encoded data removed]",
      "text/plain": [
       "<Figure size 576x396 with 1 Axes>"
      ]
     },
     "metadata": {},
     "output_type": "display_data"
    }
   ],
   "source": [
    "# Instantiate the classification model\n",
    "model = KNeighborsClassifier()\n",
    "\n",
    "# The confusion Matrix visualizer takes a model\n",
    "cm = ConfusionMatrix(model, percent=True)\n",
    "\n",
    "# fit fits the passed model. This is unnecessary if you\n",
    "# pass the visualize a pre-fitted model\n",
    "cm.fit(X_train, Y_train)\n",
    "\n",
    "# To create the confusion matrix, we need some test data.\n",
    "# Score runs predict() on the data dn then creates the \n",
    "# confusion matrix from scikit learn.\n",
    "cm.score(X_test, Y_test)\n",
    "\n",
    "# change fontsize of the labels in the figure\n",
    "for label in cm.ax.texts:\n",
    "    label.set_size(20)\n",
    "    \n"
   ]
  },
  {
   "cell_type": "markdown",
   "id": "cd1dc14b",
   "metadata": {
    "papermill": {
     "duration": 0.021365,
     "end_time": "2022-08-01T16:58:37.049202",
     "exception": false,
     "start_time": "2022-08-01T16:58:37.027837",
     "status": "completed"
    },
    "tags": []
   },
   "source": [
    "A confusion matrix is used to describe the performance of a classification model. From this we gather that 80% were correctly predicted not fraud and 97% were correctly predicted to be fraud. The other two values indicate incorrect predictions."
   ]
  },
  {
   "cell_type": "markdown",
   "id": "63e33577",
   "metadata": {
    "papermill": {
     "duration": 0.013052,
     "end_time": "2022-08-01T16:58:37.079383",
     "exception": false,
     "start_time": "2022-08-01T16:58:37.066331",
     "status": "completed"
    },
    "tags": []
   },
   "source": [
    "### KNN - Precision, Recall and F1 Score\n"
   ]
  },
  {
   "cell_type": "code",
   "execution_count": 12,
   "id": "f5beafb5",
   "metadata": {
    "execution": {
     "iopub.execute_input": "2022-08-01T16:58:37.107486Z",
     "iopub.status.busy": "2022-08-01T16:58:37.106773Z",
     "iopub.status.idle": "2022-08-01T16:59:32.412278Z",
     "shell.execute_reply": "2022-08-01T16:59:32.410918Z"
    },
    "papermill": {
     "duration": 55.322897,
     "end_time": "2022-08-01T16:59:32.415276",
     "exception": false,
     "start_time": "2022-08-01T16:58:37.092379",
     "status": "completed"
    },
    "tags": []
   },
   "outputs": [
    {
     "data": {
      "text/plain": [
       "0.95189"
      ]
     },
     "execution_count": 12,
     "metadata": {},
     "output_type": "execute_result"
    },
    {
     "data": {
      "image/png": "[encoded data removed]",
      "text/plain": [
       "<Figure size 1080x504 with 2 Axes>"
      ]
     },
     "metadata": {
      "needs_background": "light"
     },
     "output_type": "display_data"
    }
   ],
   "source": [
    "# set the size of the figure and the font size\n",
    "%matplotlib inline\n",
    "plt.rcParams['figure.figsize'] = (15,7)\n",
    "plt.rcParams['font.size'] = 20\n",
    "\n",
    "# Instantiate the visualizer\n",
    "visualizer = ClassificationReport(model)\n",
    "\n",
    "# Fit the training data to the visualizer\n",
    "visualizer.fit(X_train, Y_train)\n",
    "\n",
    "# Evaluate the model on the test data\n",
    "visualizer.score(X_test, Y_test)\n"
   ]
  },
  {
   "cell_type": "markdown",
   "id": "090c1d27",
   "metadata": {
    "papermill": {
     "duration": 0.012945,
     "end_time": "2022-08-01T16:59:32.441510",
     "exception": false,
     "start_time": "2022-08-01T16:59:32.428565",
     "status": "completed"
    },
    "tags": []
   },
   "source": [
    "### Evaluation with Logistic Regression"
   ]
  },
  {
   "cell_type": "code",
   "execution_count": 13,
   "id": "f9dcd12c",
   "metadata": {
    "execution": {
     "iopub.execute_input": "2022-08-01T16:59:32.469525Z",
     "iopub.status.busy": "2022-08-01T16:59:32.469136Z",
     "iopub.status.idle": "2022-08-01T16:59:40.744542Z",
     "shell.execute_reply": "2022-08-01T16:59:40.743361Z"
    },
    "papermill": {
     "duration": 8.292461,
     "end_time": "2022-08-01T16:59:40.747217",
     "exception": false,
     "start_time": "2022-08-01T16:59:32.454756",
     "status": "completed"
    },
    "tags": []
   },
   "outputs": [
    {
     "data": {
      "image/png": "[encoded data removed]",
      "text/plain": [
       "<Figure size 1080x504 with 1 Axes>"
      ]
     },
     "metadata": {
      "needs_background": "light"
     },
     "output_type": "display_data"
    }
   ],
   "source": [
    "# Instantiate the classification model\n",
    "model = LogisticRegression()\n",
    "\n",
    "# The confusion Matrix visualizer takes a model\n",
    "cm = ConfusionMatrix(model, percent=True)\n",
    "\n",
    "# fit fits the passed model. This is unnecessary if you\n",
    "# pass the visualize a pre-fitted model\n",
    "cm.fit(X_train, Y_train)\n",
    "\n",
    "# To create the confusion matrix, we need some test data.\n",
    "# Score runs predict() on the data dn then creates the \n",
    "# confusion matrix from scikit learn.\n",
    "cm.score(X_test, Y_test)\n",
    "\n",
    "# change fontsize of the labels in the figure\n",
    "for label in cm.ax.texts:\n",
    "    label.set_size(20)"
   ]
  },
  {
   "cell_type": "markdown",
   "id": "b17b72e1",
   "metadata": {
    "papermill": {
     "duration": 0.015151,
     "end_time": "2022-08-01T16:59:40.777446",
     "exception": false,
     "start_time": "2022-08-01T16:59:40.762295",
     "status": "completed"
    },
    "tags": []
   },
   "source": [
    "### Logistic Regression - Precision, Recall and F1 Score"
   ]
  },
  {
   "cell_type": "code",
   "execution_count": 14,
   "id": "a0b00a61",
   "metadata": {
    "execution": {
     "iopub.execute_input": "2022-08-01T16:59:40.810248Z",
     "iopub.status.busy": "2022-08-01T16:59:40.809459Z",
     "iopub.status.idle": "2022-08-01T16:59:46.662831Z",
     "shell.execute_reply": "2022-08-01T16:59:46.661683Z"
    },
    "papermill": {
     "duration": 5.872672,
     "end_time": "2022-08-01T16:59:46.665317",
     "exception": false,
     "start_time": "2022-08-01T16:59:40.792645",
     "status": "completed"
    },
    "tags": []
   },
   "outputs": [
    {
     "data": {
      "text/plain": [
       "0.929935"
      ]
     },
     "execution_count": 14,
     "metadata": {},
     "output_type": "execute_result"
    },
    {
     "data": {
      "image/png": "[encoded data removed]",
      "text/plain": [
       "<Figure size 1080x504 with 2 Axes>"
      ]
     },
     "metadata": {
      "needs_background": "light"
     },
     "output_type": "display_data"
    }
   ],
   "source": [
    "# set the size of the figure and the font size\n",
    "%matplotlib inline\n",
    "plt.rcParams['figure.figsize'] = (15,7)\n",
    "plt.rcParams['font.size'] = 20\n",
    "\n",
    "# Instantiate the visualizer\n",
    "visualizer = ClassificationReport(model)\n",
    "\n",
    "# Fit the training data to the visualizer\n",
    "visualizer.fit(X_train, Y_train)\n",
    "\n",
    "# Evaluate the model on the test data\n",
    "visualizer.score(X_test, Y_test)"
   ]
  }
 ],
 "metadata": {
  "kernelspec": {
   "display_name": "Python 3",
   "language": "python",
   "name": "python3"
  },
  "language_info": {
   "codemirror_mode": {
    "name": "ipython",
    "version": 3
   },
   "file_extension": ".py",
   "mimetype": "text/x-python",
   "name": "python",
   "nbconvert_exporter": "python",
   "pygments_lexer": "ipython3",
   "version": "3.7.12"
  },
  "papermill": {
   "default_parameters": {},
   "duration": 161.553313,
   "end_time": "2022-08-01T16:59:47.503434",
   "environment_variables": {},
   "exception": null,
   "input_path": "__notebook__.ipynb",
   "output_path": "__notebook__.ipynb",
   "parameters": {},
   "start_time": "2022-08-01T16:57:05.950121",
   "version": "2.3.4"
  }
 },
 "nbformat": 4,
 "nbformat_minor": 5
}
